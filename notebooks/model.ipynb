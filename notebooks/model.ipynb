{
 "cells": [
  {
   "cell_type": "code",
   "execution_count": 2,
   "metadata": {},
   "outputs": [],
   "source": [
    "import os \n",
    "import pandas as pd\n",
    "import numpy as np\n",
    "import matplotlib.pyplot as plt"
   ]
  },
  {
   "cell_type": "code",
   "execution_count": 3,
   "metadata": {},
   "outputs": [],
   "source": [
    "data_dir = \"/workspaces/Recommenders-Systems/data\"\n",
    "books_path = os.path.join(data_dir,\"merged_df.pkl\")"
   ]
  },
  {
   "cell_type": "code",
   "execution_count": 4,
   "metadata": {},
   "outputs": [
    {
     "data": {
      "text/plain": [
       "{'User-ID': {0: 276726, 1: 276729, 2: 276729, 3: 276744, 4: 276747},\n",
       " 'ISBN': {0: '0155061224',\n",
       "  1: '052165615X',\n",
       "  2: '0521795028',\n",
       "  3: '038550120X',\n",
       "  4: '0060517794'},\n",
       " 'Book-Rating': {0: 5, 1: 3, 2: 6, 3: 7, 4: 9},\n",
       " 'Book-Title': {0: 'Rites of Passage',\n",
       "  1: 'Help!: Level 1',\n",
       "  2: 'The Amsterdam Connection : Level 4 (Cambridge English Readers)',\n",
       "  3: 'A Painted House',\n",
       "  4: 'Little Altars Everywhere'},\n",
       " 'Book-Author': {0: 'Judith Rae',\n",
       "  1: 'Philip Prowse',\n",
       "  2: 'Sue Leather',\n",
       "  3: 'JOHN GRISHAM',\n",
       "  4: 'Rebecca Wells'},\n",
       " 'Year-Of-Publication': {0: '2001', 1: '1999', 2: '2001', 3: 2001, 4: 2003},\n",
       " 'Publisher': {0: 'Heinle',\n",
       "  1: 'Cambridge University Press',\n",
       "  2: 'Cambridge University Press',\n",
       "  3: 'Doubleday',\n",
       "  4: 'HarperTorch'},\n",
       " 'Image-URL-L': {0: 'http://images.amazon.com/images/P/0155061224.01.LZZZZZZZ.jpg',\n",
       "  1: 'http://images.amazon.com/images/P/052165615X.01.LZZZZZZZ.jpg',\n",
       "  2: 'http://images.amazon.com/images/P/0521795028.01.LZZZZZZZ.jpg',\n",
       "  3: 'http://images.amazon.com/images/P/038550120X.01.LZZZZZZZ.jpg',\n",
       "  4: 'http://images.amazon.com/images/P/0060517794.01.LZZZZZZZ.jpg'},\n",
       " 'Location': {0: 'seattle, washington, usa',\n",
       "  1: 'rijeka, n/a, croatia',\n",
       "  2: 'rijeka, n/a, croatia',\n",
       "  3: 'torrance, california, usa',\n",
       "  4: 'iowa city, iowa, usa'},\n",
       " 'Age': {0: 32, 1: 16, 2: 16, 3: 32, 4: 25},\n",
       " 'Rating_Count': {0: 1, 1: 1, 2: 1, 3: 81, 4: 30}}"
      ]
     },
     "execution_count": 4,
     "metadata": {},
     "output_type": "execute_result"
    }
   ],
   "source": [
    "books_df= pd.read_pickle(books_path)\n",
    "books_df.head().to_dict()"
   ]
  },
  {
   "cell_type": "code",
   "execution_count": 8,
   "metadata": {},
   "outputs": [],
   "source": [
    "from sklearn.model_selection import train_test_split\n",
    "from sklearn.preprocessing import LabelEncoder\n",
    "from sklearn.metrics import mean_squared_error\n",
    "from sklearn.decomposition import TruncatedSVD\n",
    "from sklearn.neighbors import NearestNeighbors\n",
    "from sklearn.feature_extraction.text import TfidfVectorizer\n",
    "from scipy.sparse import csr_matrix"
   ]
  },
  {
   "cell_type": "code",
   "execution_count": 63,
   "metadata": {},
   "outputs": [],
   "source": [
    "\n",
    "\n",
    "def load_data(file_path):\n",
    "    return pd.read_pickle(file_path)\n",
    "\n",
    "def preprocess_data(data):\n",
    "    le_user = LabelEncoder()\n",
    "    le_isbn = LabelEncoder()\n",
    "    \n",
    "    data['User-ID'] = le_user.fit_transform(data['User-ID'])\n",
    "    data['ISBN'] = le_isbn.fit_transform(data['ISBN'])\n",
    "    \n",
    "    return data, le_user, le_isbn\n",
    "\n",
    "def create_sparse_matrix(data):\n",
    "    rows = data['User-ID'].values\n",
    "    cols = data['ISBN'].values\n",
    "    values = data['Book-Rating'].values\n",
    "    \n",
    "    return csr_matrix((values, (rows, cols)))\n",
    "\n",
    "def train_svd(matrix, n_components=50):\n",
    "    svd = TruncatedSVD(n_components=n_components, random_state=42)\n",
    "    return svd.fit(matrix)\n",
    "\n",
    "def train_knn(matrix, n_neighbors=20):\n",
    "    knn = NearestNeighbors(metric='cosine', algorithm='brute', n_neighbors=n_neighbors, n_jobs=-1)\n",
    "    return knn.fit(matrix)\n",
    "\n",
    "def evaluate_model_svd(model, test_matrix, batch_size=1000):\n",
    "    total_mse = 0\n",
    "    total_samples = 0\n",
    "    \n",
    "    for i in range(0, test_matrix.shape[0], batch_size):\n",
    "        batch = test_matrix[i:i+batch_size]\n",
    "        non_zero_mask = batch.nonzero()\n",
    "        actual = batch.data\n",
    "        user_factors = model.transform(batch)\n",
    "        item_factors = model.components_[:, non_zero_mask[1]]\n",
    "        predicted = np.sum(user_factors[non_zero_mask[0], :] * item_factors.T, axis=1)\n",
    "        total_mse += np.sum((actual - predicted) ** 2)\n",
    "        total_samples += len(actual)\n",
    "    \n",
    "    return np.sqrt(total_mse / total_samples)\n",
    "\n",
    "def evaluate_model_knn(model, test_matrix, train_matrix, batch_size=1000):\n",
    "    total_mse = 0\n",
    "    total_samples = 0\n",
    "    \n",
    "    for i in range(0, test_matrix.shape[0], batch_size):\n",
    "        batch = test_matrix[i:i+batch_size]\n",
    "        non_zero_mask = batch.nonzero()\n",
    "        actual = batch.data\n",
    "        _, indices = model.kneighbors(batch)\n",
    "        \n",
    "        predicted = []\n",
    "        for j, idx in enumerate(indices):\n",
    "            user_ratings = train_matrix[idx].toarray()\n",
    "            book_indices = non_zero_mask[1][non_zero_mask[0] == j]\n",
    "            pred = user_ratings[:, book_indices].mean(axis=0)\n",
    "            predicted.extend(pred)\n",
    "        \n",
    "        predicted = np.array(predicted)\n",
    "        total_mse += np.sum((actual - predicted) ** 2)\n",
    "        total_samples += len(actual)\n",
    "    \n",
    "    return np.sqrt(total_mse / total_samples)\n",
    "\n",
    "def get_top_n_recommendations(model, user_vector, n=10):\n",
    "    if isinstance(model, TruncatedSVD):\n",
    "        if isinstance(user_vector, csr_matrix):\n",
    "            user_vector = user_vector.toarray().flatten()\n",
    "        user_factors = model.transform(user_vector.reshape(1, -1))\n",
    "        user_ratings = user_factors.dot(model.components_)\n",
    "    elif isinstance(model, NearestNeighbors):\n",
    "        if isinstance(user_vector, csr_matrix):\n",
    "            user_vector = user_vector.toarray().flatten()\n",
    "        _, indices = model.kneighbors(user_vector.reshape(1, -1))\n",
    "        user_ratings = matrix[indices.flatten()].mean(axis=0).A1\n",
    "    \n",
    "    top_n_indices = np.argsort(user_ratings.flatten())[-n:][::-1]\n",
    "    return top_n_indices"
   ]
  },
  {
   "cell_type": "code",
   "execution_count": 48,
   "metadata": {},
   "outputs": [
    {
     "name": "stdout",
     "output_type": "stream",
     "text": [
      "Chargement des données...\n",
      "Prétraitement des données...\n",
      "Création de la matrice creuse...\n"
     ]
    },
    {
     "data": {
      "text/plain": [
       "1633"
      ]
     },
     "execution_count": 48,
     "metadata": {},
     "output_type": "execute_result"
    }
   ],
   "source": [
    "print(\"Chargement des données...\")\n",
    "data = load_data(books_path)\n",
    "\n",
    "print(\"Prétraitement des données...\")\n",
    "data, le_user, le_isbn = preprocess_data(data)\n",
    "\n",
    "print(\"Création de la matrice creuse...\")\n",
    "matrix = create_sparse_matrix(data)\n",
    "\n",
    "del data\n",
    "import gc\n",
    "gc.collect()"
   ]
  },
  {
   "cell_type": "code",
   "execution_count": 55,
   "metadata": {},
   "outputs": [
    {
     "name": "stdout",
     "output_type": "stream",
     "text": [
      "Division des données...\n",
      "Entraînement du modèle SVD...\n",
      "Entraînement du modèle KNN...\n"
     ]
    }
   ],
   "source": [
    "print(\"Division des données...\")\n",
    "train_matrix, test_matrix = train_test_split(matrix, test_size=0.2, random_state=42)\n",
    "\n",
    "print(\"Entraînement du modèle SVD...\")\n",
    "svd_model = train_svd(train_matrix)\n",
    "\n",
    "print(\"Entraînement du modèle KNN...\")\n",
    "knn_model = train_knn(train_matrix)"
   ]
  },
  {
   "cell_type": "code",
   "execution_count": 56,
   "metadata": {},
   "outputs": [
    {
     "name": "stdout",
     "output_type": "stream",
     "text": [
      "Évaluation des modèles...\n"
     ]
    },
    {
     "data": {
      "text/plain": [
       "np.float64(7.750016227247428)"
      ]
     },
     "execution_count": 56,
     "metadata": {},
     "output_type": "execute_result"
    }
   ],
   "source": [
    "print(\"Évaluation des modèles...\")\n",
    "svd_rmse = evaluate_model_svd(svd_model, test_matrix)\n",
    "svd_rmse"
   ]
  },
  {
   "cell_type": "code",
   "execution_count": 57,
   "metadata": {},
   "outputs": [],
   "source": [
    "knn_rmse = evaluate_model_knn(knn_model, test_matrix, train_matrix)"
   ]
  },
  {
   "cell_type": "code",
   "execution_count": 59,
   "metadata": {},
   "outputs": [
    {
     "name": "stdout",
     "output_type": "stream",
     "text": [
      "SVD RMSE: 7.750016227247428\n",
      "KNN RMSE: 7.188491281673265\n"
     ]
    }
   ],
   "source": [
    "print(f\"SVD RMSE: {svd_rmse}\")\n",
    "print(f\"KNN RMSE: {knn_rmse}\")"
   ]
  },
  {
   "cell_type": "code",
   "execution_count": 60,
   "metadata": {},
   "outputs": [],
   "source": [
    "user_id = 0\n",
    "user_vector = matrix[user_id]"
   ]
  },
  {
   "cell_type": "code",
   "execution_count": 64,
   "metadata": {},
   "outputs": [
    {
     "name": "stdout",
     "output_type": "stream",
     "text": [
      "\n",
      "Top 10 recommandations pour l'utilisateur 0 (SVD):\n",
      "['0312195516' '0385504209' '067976402X' '0446672211' '0452282829'\n",
      " '0452282152' '0375707972' '0316777722' '0385722206' '0156027321']\n"
     ]
    }
   ],
   "source": [
    "print(f\"\\nTop 10 recommandations pour l'utilisateur {user_id} (SVD):\")\n",
    "svd_recs = get_top_n_recommendations(svd_model, user_vector)\n",
    "print(le_isbn.inverse_transform(svd_recs))"
   ]
  },
  {
   "cell_type": "code",
   "execution_count": 65,
   "metadata": {},
   "outputs": [
    {
     "name": "stdout",
     "output_type": "stream",
     "text": [
      "\n",
      "Top 10 recommandations pour l'utilisateur 0 (KNN):\n",
      "['0618129022' '0553282476' '0140185003' '043935806X' '0895031957'\n",
      " '067972544X' '0441172717' '0671021001' '0439136369' '0441000916']\n"
     ]
    }
   ],
   "source": [
    "print(f\"\\nTop 10 recommandations pour l'utilisateur {user_id} (KNN):\")\n",
    "knn_recs = get_top_n_recommendations(knn_model, user_vector)\n",
    "print(le_isbn.inverse_transform(knn_recs))"
   ]
  },
  {
   "cell_type": "code",
   "execution_count": 68,
   "metadata": {},
   "outputs": [
    {
     "data": {
      "image/png": "[encoded data removed]",
      "text/plain": [
       "<Figure size 1000x600 with 1 Axes>"
      ]
     },
     "metadata": {},
     "output_type": "display_data"
    }
   ],
   "source": [
    "plt.figure(figsize=(10, 6))\n",
    "plt.bar(['SVD', 'KNN'], [svd_rmse, knn_rmse])\n",
    "plt.title('Comparaison des performances des modèles')\n",
    "plt.ylabel('RMSE')\n",
    "plt.show()"
   ]
  }
 ],
 "metadata": {
  "kernelspec": {
   "display_name": "Python 3",
   "language": "python",
   "name": "python3"
  },
  "language_info": {
   "codemirror_mode": {
    "name": "ipython",
    "version": 3
   },
   "file_extension": ".py",
   "mimetype": "text/x-python",
   "name": "python",
   "nbconvert_exporter": "python",
   "pygments_lexer": "ipython3",
   "version": "3.12.1"
  }
 },
 "nbformat": 4,
 "nbformat_minor": 2
}
